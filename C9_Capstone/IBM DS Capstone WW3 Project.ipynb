{
    "cells": [
        {
            "cell_type": "markdown",
            "metadata": {},
            "source": "## IBM Data Science WW3 Project\n### Import library"
        },
        {
            "cell_type": "code",
            "execution_count": 60,
            "metadata": {},
            "outputs": [],
            "source": "import numpy as np # library to handle data in a vectorized manner\n\nimport pandas as pd # library for data analsysis\npd.set_option('display.max_columns', None)\npd.set_option('display.max_rows', None)\n\nimport requests\nimport lxml\n\n#!conda install -c conda-forge beautifulsoup4 --yes\nfrom bs4 import BeautifulSoup\nimport pandas as pd\nimport numpy as mp"
        },
        {
            "cell_type": "markdown",
            "metadata": {},
            "source": "### read from webpage"
        },
        {
            "cell_type": "code",
            "execution_count": 71,
            "metadata": {},
            "outputs": [],
            "source": "url=\"https://en.wikipedia.org/wiki/List_of_postal_codes_of_Canada:_M\"\npage=requests.get(url)\nsoup=BeautifulSoup(page.text,'lxml')\n#soup.prettify()"
        },
        {
            "cell_type": "markdown",
            "metadata": {},
            "source": "### parse table and save in dataframe"
        },
        {
            "cell_type": "code",
            "execution_count": 100,
            "metadata": {
                "scrolled": true
            },
            "outputs": [],
            "source": "postid=[]\nborough=[]\nneigh=[]\ntable=soup.find('table', class_=\"wikitable sortable\")\n#print(table.text)\nrows=table.find_all('tr')\nfor row in rows[1:]:\n    cells=row.find_all('td')\n    text0=cells[0].text.strip()\n    text1=cells[1].text.strip()\n    text2=cells[2].text.strip()\n    #print(\"cells: \", cells[0].text,cells[1].text,cells[2].text)\n    if (str(text1).lower()!=\"not assigned\"):\n        postid.append(text0)\n        borough.append(text1)\n        if (str(text2).lower()==\"not assigned\"):\n            neigh.append(text1)\n        else:\n            neigh.append(text2)\n            \npost=pd.DataFrame({\"postcode\":postid,\n                  \"borough\":borough,\n                 \"neighborhood\":neigh})\n#print(post.head())\n#post.shape\n   "
        },
        {
            "cell_type": "markdown",
            "metadata": {},
            "source": "### combine the neighborhood with same postcode"
        },
        {
            "cell_type": "code",
            "execution_count": 96,
            "metadata": {
                "scrolled": true
            },
            "outputs": [
                {
                    "name": "stdout",
                    "output_type": "stream",
                    "text": "  postcode           borough                     neighborhood\n0      M3A        North York                        Parkwoods\n1      M4A        North York                 Victoria Village\n2      M5A  Downtown Toronto                     Harbourfront\n3      M6A        North York  Lawrence Heights,Lawrence Manor\n4      M7A  Downtown Toronto                     Queen's Park\n"
                },
                {
                    "data": {
                        "text/plain": "(103, 3)"
                    },
                    "execution_count": 96,
                    "metadata": {},
                    "output_type": "execute_result"
                }
            ],
            "source": "postcode=[]\nborough=[]\nneigh=[]\nunique_post=post['postcode'].unique()\nfor id in unique_post:\n    neigh_list=list(post[post['postcode']==id]['neighborhood'])\n    neigh_str=','.join(neigh_list)\n    postcode.append(id)\n    a=post[post['postcode']==id]['borough'].reset_index(drop=True)\n    borough.append(a[0])\n    neigh.append(neigh_str)\n\npost_final=pd.DataFrame({\"postcode\":postcode,\n                        \"borough\":borough,\n                        \"neighborhood\":neigh})\nprint(post_final.head())\npost_final.shape\n    "
        },
        {
            "cell_type": "code",
            "execution_count": null,
            "metadata": {},
            "outputs": [],
            "source": ""
        },
        {
            "cell_type": "code",
            "execution_count": null,
            "metadata": {},
            "outputs": [],
            "source": ""
        },
        {
            "cell_type": "code",
            "execution_count": null,
            "metadata": {},
            "outputs": [],
            "source": ""
        },
        {
            "cell_type": "code",
            "execution_count": null,
            "metadata": {},
            "outputs": [],
            "source": ""
        },
        {
            "cell_type": "code",
            "execution_count": null,
            "metadata": {},
            "outputs": [],
            "source": ""
        },
        {
            "cell_type": "code",
            "execution_count": null,
            "metadata": {},
            "outputs": [],
            "source": ""
        },
        {
            "cell_type": "code",
            "execution_count": null,
            "metadata": {},
            "outputs": [],
            "source": ""
        }
    ],
    "metadata": {
        "kernelspec": {
            "display_name": "Python 3.6",
            "language": "python",
            "name": "python3"
        },
        "language_info": {
            "codemirror_mode": {
                "name": "ipython",
                "version": 3
            },
            "file_extension": ".py",
            "mimetype": "text/x-python",
            "name": "python",
            "nbconvert_exporter": "python",
            "pygments_lexer": "ipython3",
            "version": "3.6.9"
        }
    },
    "nbformat": 4,
    "nbformat_minor": 1
}